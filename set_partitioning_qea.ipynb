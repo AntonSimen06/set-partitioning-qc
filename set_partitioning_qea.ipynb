{
 "cells": [
  {
   "cell_type": "code",
   "execution_count": null,
   "id": "cd8b00ff",
   "metadata": {},
   "outputs": [],
   "source": [
    "import numpy as np\n",
    "import random\n",
    "from qiskit import QuantumCircuit, BasicAer\n",
    "from qiskit.visualization import plot_histogram\n",
    "import matplotlib.pyplot as plt\n",
    "import numpy as np\n",
    "import random\n",
    "import math\n",
    "import copy\n",
    "from copy import deepcopy\n",
    "import itertools\n",
    "simulator = BasicAer.get_backend('qasm_simulator')\n",
    "from qiskit import *\n",
    "from qiskit.visualization import plot_histogram\n",
    "from qiskit.providers.aer.noise import pauli_error\n",
    "from collections import defaultdict\n",
    "from qiskit import Aer\n",
    "import numpy as np\n",
    "import matplotlib.pyplot as plt\n",
    "import qiskit.quantum_info as qi\n",
    "\n",
    "import scipy.linalg as la\n",
    "\n",
    "import import_ipynb\n",
    "from circuit_evolution import *"
   ]
  },
  {
   "cell_type": "code",
   "execution_count": null,
   "id": "8157236a",
   "metadata": {},
   "outputs": [],
   "source": [
    "from pyqubo import Spin, Binary\n",
    "\n",
    "def ising_model_partitioning(number_set):\n",
    "    \"\"\"\n",
    "    Args:\n",
    "    1) A matrix of the distances (upper triangular)\n",
    "    2) Vector of the times\n",
    "    3) Number of bits in the floating-point approximation\n",
    "    4) If ising = True, the output is an ising model\n",
    "\n",
    "    Output:\n",
    "    A linear system problem written as a qubo formulation\n",
    "\n",
    "    \"\"\"    \n",
    "    #set partitioning as a qubo\n",
    "    qubo = 0\n",
    "    for k, n in enumerate(number_set):\n",
    "        qubo += n*(2*Binary(\"s\"+str(k+1)) - 1)\n",
    "    qubo = qubo**2\n",
    "\n",
    "\n",
    "    model = qubo.compile()    \n",
    "    linear, quadratic, offset = model.to_ising()\n",
    "    \n",
    "    return linear, quadratic, offset\n",
    "\n",
    "\n",
    "# problem\n",
    "numbers = [5,5,1,1,1,1,1,1,1,3]\n",
    "linear, quadratic, offset = ising_model_partitioning(numbers)\n",
    "\n",
    "#Hamiltonian construction\n",
    "num_variables=len(numbers)\n",
    "H=[[0 for i in range(2**num_variables)] for j in range(2**num_variables) ] #hamiltonian initialize\n",
    "\n",
    "#quadratic terms from ising model\n",
    "for key, value in quadratic.items():\n",
    "    q=QuantumRegister(num_variables,'q')\n",
    "    circuit = QuantumCircuit(q)\n",
    "    circuit.z(int(key[0][1:])-1)\n",
    "    circuit.z(int(key[1][1:])-1)    \n",
    "    op = qi.Operator(circuit)\n",
    "    array=op.data\n",
    "    H+=value*array    \n",
    "\n",
    "#linear terms from ising model\n",
    "for key, value in linear.items():\n",
    "    q=QuantumRegister(num_variables,'q')\n",
    "    circuit = QuantumCircuit(q)\n",
    "    circuit.z(int(key[1:])-1)\n",
    "    op = qi.Operator(circuit)\n",
    "    array=op.data\n",
    "    H+=value*array"
   ]
  },
  {
   "cell_type": "code",
   "execution_count": null,
   "id": "48c4824d",
   "metadata": {},
   "outputs": [],
   "source": [
    "results = la.eig(H) #Expected minimum energy\n",
    "print(min(results[0]))"
   ]
  },
  {
   "cell_type": "code",
   "execution_count": null,
   "id": "76f7e257",
   "metadata": {},
   "outputs": [],
   "source": [
    "func_val=get_min_circuit(H) #gives the value of optimization function at each generation"
   ]
  },
  {
   "cell_type": "code",
   "execution_count": null,
   "id": "7161bd79",
   "metadata": {},
   "outputs": [],
   "source": [
    "func_val[-1][0] #gives the value of target function on last generation"
   ]
  },
  {
   "cell_type": "code",
   "execution_count": null,
   "id": "76ada42b",
   "metadata": {},
   "outputs": [],
   "source": [
    "final_circuit=get_circuit(func_val[-1][1])"
   ]
  },
  {
   "cell_type": "code",
   "execution_count": null,
   "id": "740ce4d5",
   "metadata": {},
   "outputs": [],
   "source": [
    "qc = QuantumCircuit(num_variables, num_variables)\n",
    "qc = qc.compose(final_circuit)\n",
    "qc.measure(range(num_variables), range(num_variables))\n",
    "\n",
    "counts = execute(qc, backend=simulator, shots=1000).result().get_counts(qc)"
   ]
  },
  {
   "cell_type": "code",
   "execution_count": null,
   "id": "ac435305",
   "metadata": {},
   "outputs": [],
   "source": [
    "final_circuit=get_circuit(func_val[-1][1])\n",
    "final_circuit.draw(initial_state=True, output=\"mpl\", fold=-1)"
   ]
  },
  {
   "cell_type": "code",
   "execution_count": null,
   "id": "8bfcfd71",
   "metadata": {},
   "outputs": [],
   "source": [
    "values3=[]\n",
    "for i in func_val:\n",
    "    values3.append(i[0].real)\n",
    "    \n",
    "plt.plot(values3, linewidth=2, color='red')\n",
    "plt.xlabel('No. of generations')\n",
    "plt.ylabel('Energy Value')\n",
    "plt.title('Seismic inversion - Ising model')\n",
    "plt.grid()\n",
    "plt.show()"
   ]
  },
  {
   "cell_type": "code",
   "execution_count": null,
   "id": "3fcdacf6",
   "metadata": {},
   "outputs": [],
   "source": [
    "counts"
   ]
  },
  {
   "cell_type": "code",
   "execution_count": null,
   "id": "5f70e31e",
   "metadata": {},
   "outputs": [],
   "source": [
    "import csv\n",
    "import pandas as pd\n",
    "\n",
    "easy_set = pd.read_csv(r'C:/Users/OS-5818/OneDrive/Documentos/Anton/bloot/cilamce_2022/data/Set_1000_easy_03.txt')\n",
    "hard_set = pd.read_csv(r'C:/Users/OS-5818/OneDrive/Documentos/Anton/bloot/cilamce_2022/data/Set_1000_Hard_095.txt')\n",
    "medium_set = pd.read_csv(r'C:/Users/OS-5818/OneDrive/Documentos/Anton/bloot/cilamce_2022/data/Set_1000_Medium_05.txt')"
   ]
  },
  {
   "cell_type": "code",
   "execution_count": null,
   "id": "b543f461",
   "metadata": {},
   "outputs": [],
   "source": [
    "\n"
   ]
  },
  {
   "cell_type": "code",
   "execution_count": null,
   "id": "f709515c",
   "metadata": {},
   "outputs": [],
   "source": []
  }
 ],
 "metadata": {
  "kernelspec": {
   "display_name": "Python 3.9.7 ('base')",
   "language": "python",
   "name": "python3"
  },
  "language_info": {
   "codemirror_mode": {
    "name": "ipython",
    "version": 3
   },
   "file_extension": ".py",
   "mimetype": "text/x-python",
   "name": "python",
   "nbconvert_exporter": "python",
   "pygments_lexer": "ipython3",
   "version": "3.9.7"
  },
  "vscode": {
   "interpreter": {
    "hash": "445da9f97fff3e9607fce724e9f5124fca1a39a333bfa2bf5db6a7377ace2fc6"
   }
  }
 },
 "nbformat": 4,
 "nbformat_minor": 5
}
